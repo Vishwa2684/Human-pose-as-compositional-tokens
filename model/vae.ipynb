{
 "cells": [
  {
   "cell_type": "code",
   "execution_count": 1,
   "metadata": {},
   "outputs": [],
   "source": [
    "import torch\n",
    "from process.data import MPIIDataset\n",
    "from model.modules import FCBlock,MixerLayer\n",
    "from torchvision.transforms import transforms\n",
    "from torch.utils.data import DataLoader"
   ]
  },
  {
   "cell_type": "code",
   "execution_count": 2,
   "metadata": {},
   "outputs": [],
   "source": [
    "# -----------------------------\n",
    "# CONFIG\n",
    "# -----------------------------\n",
    "IMAGE_DIR = '../images/'\n",
    "CSV_PATH = '../mpii_human_pose_v1_u12_2/mpii_human_pose.csv'\n",
    "IMG_SIZE = 224\n",
    "NUM_JOINTS = 16"
   ]
  },
  {
   "cell_type": "code",
   "execution_count": 3,
   "metadata": {},
   "outputs": [],
   "source": [
    "transform = transforms.Compose([\n",
    "    transforms.ToPILImage(),\n",
    "    transforms.Resize((224, 224)),\n",
    "    transforms.ToTensor(),\n",
    "])"
   ]
  },
  {
   "cell_type": "code",
   "execution_count": 4,
   "metadata": {},
   "outputs": [],
   "source": [
    "mpii = MPIIDataset(CSV_PATH,IMAGE_DIR,transform)"
   ]
  },
  {
   "cell_type": "code",
   "execution_count": 5,
   "metadata": {},
   "outputs": [
    {
     "data": {
      "text/plain": [
       "torch.Size([16, 2])"
      ]
     },
     "execution_count": 5,
     "metadata": {},
     "output_type": "execute_result"
    }
   ],
   "source": [
    "mpii[0][1].shape"
   ]
  },
  {
   "cell_type": "code",
   "execution_count": 6,
   "metadata": {},
   "outputs": [],
   "source": [
    "data = DataLoader(mpii,batch_size=16,shuffle=True)"
   ]
  },
  {
   "cell_type": "code",
   "execution_count": 7,
   "metadata": {},
   "outputs": [
    {
     "name": "stdout",
     "output_type": "stream",
     "text": [
      "torch.Size([1, 16, 256])\n",
      "torch.Size([1, 16, 256])\n",
      "torch.Size([1, 16, 2])\n"
     ]
    }
   ],
   "source": [
    "from model.encoder import CompositionalEncoder,VectorQuantizer,Decoder\n",
    "import torch\n",
    "\n",
    "random_tensor = torch.randn(size=(1,16,2))\n",
    "with torch.no_grad():\n",
    "    encoder = CompositionalEncoder(k=16,d=2,h=256,m=16)\n",
    "    vq = VectorQuantizer(v=512,h=256,commitment_cost=0.25)\n",
    "    decoder = Decoder(k=16,d=2,h=256,m=16)\n",
    "    output = encoder(random_tensor)\n",
    "    print(output.shape)\n",
    "    output = vq(output)[0]\n",
    "    print(output.shape)\n",
    "    output = decoder(output)\n",
    "    print(output.shape)"
   ]
  },
  {
   "cell_type": "code",
   "execution_count": 8,
   "metadata": {},
   "outputs": [],
   "source": [
    "# Increasing the number of entries V in the\n",
    "# codebook decreases the quantization error. However, it also\n",
    "# increases the classification difficulty as the number of categories becomes larger."
   ]
  }
 ],
 "metadata": {
  "kernelspec": {
   "display_name": "Python 3",
   "language": "python",
   "name": "python3"
  },
  "language_info": {
   "codemirror_mode": {
    "name": "ipython",
    "version": 3
   },
   "file_extension": ".py",
   "mimetype": "text/x-python",
   "name": "python",
   "nbconvert_exporter": "python",
   "pygments_lexer": "ipython3",
   "version": "3.12.10"
  }
 },
 "nbformat": 4,
 "nbformat_minor": 2
}
